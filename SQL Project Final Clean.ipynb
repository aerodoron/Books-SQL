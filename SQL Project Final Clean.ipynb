{
 "cells": [
  {
   "cell_type": "markdown",
   "id": "530b56d7",
   "metadata": {},
   "source": [
    "# SQL Project"
   ]
  },
  {
   "cell_type": "markdown",
   "id": "02469f4b",
   "metadata": {},
   "source": [
    "## The Goals of the Analysis"
   ]
  },
  {
   "cell_type": "markdown",
   "id": "9822433a",
   "metadata": {},
   "source": [
    "The COVID-19 pandemic and the lock downs imposed on people across the world caused people to change their day-to-day\n",
    "lives. People who used to be busy and barely had time to sit down, were forced to slow down and stay at home. \n",
    "This meant that more and more people spent their time reading books - causing an influx of startups developing apps\n",
    "specifically for book readers and book lovers.\n",
    "\n",
    "The database analyzed in this analysis is of one of the services competing on this newly, re-emerging, market. This \n",
    "database contains information on books, publishers, authors, number of pages, reviewers, reviews and ratings. This information will be used to generate a value proposition for a new product."
   ]
  },
  {
   "cell_type": "markdown",
   "id": "a631f62b",
   "metadata": {},
   "source": [
    "## Description of the Tables"
   ]
  },
  {
   "cell_type": "markdown",
   "id": "fe8e4f41",
   "metadata": {},
   "source": [
    "1. Books:\n",
    "    - \"book_id\" - the book's unique id;\n",
    "    - \"author_id\" - the author's unique id;\n",
    "    - \"title\" - the book's title;\n",
    "    - \"num_pages\" — number of pages;\n",
    "    - \"publication_date\" - the book's publication date;\n",
    "    - \"publisher_id\" - the publisher's unique id.\n",
    "\n",
    "\n",
    "2. Authors:\n",
    "    - \"author_id\" - the author's unique id;\n",
    "    - \"author\" - the author's name.\n",
    "\n",
    "\n",
    "3. Publishers:\n",
    "    - \"publisher_id\" - the publisher's unique id;\n",
    "    - \"publisher\" - the publisher's name.\n",
    "\n",
    "\n",
    "4. Ratings:\n",
    "    - \"rating_id\" - the rating's unique id;\n",
    "    - \"book_id\" - the book's unique id;\n",
    "    - \"username\" — the name of the user who rated the book;\n",
    "    - \"rating\" - the book's rating;.\n",
    "\n",
    "\n",
    "5. Reviews:\n",
    "    - \"review_id\" - the review's unique id;;\n",
    "    - \"book_id\" - the book's unique id;;\n",
    "    - \"username\" — the name of the user who reviewed the book;\n",
    "    - \"text\" — the text of the review."
   ]
  },
  {
   "cell_type": "markdown",
   "id": "9fb1088b",
   "metadata": {},
   "source": [
    "## Loading Libraries and Installing psycopg2"
   ]
  },
  {
   "cell_type": "code",
   "execution_count": 1,
   "id": "5165a9f4",
   "metadata": {},
   "outputs": [],
   "source": [
    "# importing necessary libraries\n",
    "import pandas as pd\n",
    "import psycopg2\n",
    "from sqlalchemy import create_engine\n",
    "\n",
    "import warnings\n",
    "warnings.filterwarnings('ignore')\n",
    "pd.set_option('display.max_colwidth', None)"
   ]
  },
  {
   "cell_type": "code",
   "execution_count": 2,
   "id": "d0face9d",
   "metadata": {},
   "outputs": [],
   "source": [
    "#!pip install psycopg2"
   ]
  },
  {
   "cell_type": "code",
   "execution_count": 3,
   "id": "5478c17b",
   "metadata": {},
   "outputs": [],
   "source": [
    "db_config = {'user': 'praktikum_student',         # user name\n",
    "             'pwd': 'Sdf4$2;d-d30pp', # password\n",
    "             'host': 'rc1b-wcoijxj3yxfsf3fs.mdb.yandexcloud.net',\n",
    "             'port': 6432,              # connection port\n",
    "             'db': 'data-analyst-final-project-db'}          # the name of the data base\n",
    "\n",
    "connection_string = 'postgresql://{}:{}@{}:{}/{}'.format(db_config['user'],\n",
    "                                                                     db_config['pwd'],\n",
    "                                                                       db_config['host'],\n",
    "                                                                       db_config['port'],\n",
    "                                                                       db_config['db'])\n",
    "\n",
    "engine = create_engine(connection_string, connect_args={'sslmode':'require'})"
   ]
  },
  {
   "cell_type": "markdown",
   "id": "0260abba",
   "metadata": {},
   "source": [
    "## Printing the Tables"
   ]
  },
  {
   "cell_type": "code",
   "execution_count": 4,
   "id": "d1dcc73e",
   "metadata": {
    "scrolled": false
   },
   "outputs": [
    {
     "name": "stdout",
     "output_type": "stream",
     "text": [
      "The reviews table:\n"
     ]
    },
    {
     "data": {
      "text/html": [
       "<div>\n",
       "<style scoped>\n",
       "    .dataframe tbody tr th:only-of-type {\n",
       "        vertical-align: middle;\n",
       "    }\n",
       "\n",
       "    .dataframe tbody tr th {\n",
       "        vertical-align: top;\n",
       "    }\n",
       "\n",
       "    .dataframe thead th {\n",
       "        text-align: right;\n",
       "    }\n",
       "</style>\n",
       "<table border=\"1\" class=\"dataframe\">\n",
       "  <thead>\n",
       "    <tr style=\"text-align: right;\">\n",
       "      <th></th>\n",
       "      <th>review_id</th>\n",
       "      <th>book_id</th>\n",
       "      <th>username</th>\n",
       "      <th>text</th>\n",
       "    </tr>\n",
       "  </thead>\n",
       "  <tbody>\n",
       "    <tr>\n",
       "      <th>0</th>\n",
       "      <td>1</td>\n",
       "      <td>1</td>\n",
       "      <td>brandtandrea</td>\n",
       "      <td>Mention society tell send professor analysis. Over provide race technology continue these.</td>\n",
       "    </tr>\n",
       "    <tr>\n",
       "      <th>1</th>\n",
       "      <td>2</td>\n",
       "      <td>1</td>\n",
       "      <td>ryanfranco</td>\n",
       "      <td>Foot glass pretty audience hit themselves. Among admit investment argue security.</td>\n",
       "    </tr>\n",
       "    <tr>\n",
       "      <th>2</th>\n",
       "      <td>3</td>\n",
       "      <td>2</td>\n",
       "      <td>lorichen</td>\n",
       "      <td>Listen treat keep worry. Miss husband tax but person sport treatment industry. Kitchen decision deep the. Social party body the.</td>\n",
       "    </tr>\n",
       "    <tr>\n",
       "      <th>3</th>\n",
       "      <td>4</td>\n",
       "      <td>3</td>\n",
       "      <td>johnsonamanda</td>\n",
       "      <td>Finally month interesting blue could nature cultural bit. Prepare beat finish grow that smile teach. Dream me play near.</td>\n",
       "    </tr>\n",
       "    <tr>\n",
       "      <th>4</th>\n",
       "      <td>5</td>\n",
       "      <td>3</td>\n",
       "      <td>scotttamara</td>\n",
       "      <td>Nation purpose heavy give wait song will. List dinner another whole positive radio fast. Music staff many green.</td>\n",
       "    </tr>\n",
       "    <tr>\n",
       "      <th>5</th>\n",
       "      <td>6</td>\n",
       "      <td>3</td>\n",
       "      <td>lesliegibbs</td>\n",
       "      <td>Analysis no several cause international.</td>\n",
       "    </tr>\n",
       "    <tr>\n",
       "      <th>6</th>\n",
       "      <td>7</td>\n",
       "      <td>4</td>\n",
       "      <td>valenciaanne</td>\n",
       "      <td>One there cost another. Say type save. With personal where occur direction foot. Half sit role want.</td>\n",
       "    </tr>\n",
       "    <tr>\n",
       "      <th>7</th>\n",
       "      <td>8</td>\n",
       "      <td>4</td>\n",
       "      <td>abbottjames</td>\n",
       "      <td>Within enough mother. There at system full recent play recognize.</td>\n",
       "    </tr>\n",
       "    <tr>\n",
       "      <th>8</th>\n",
       "      <td>9</td>\n",
       "      <td>5</td>\n",
       "      <td>npowers</td>\n",
       "      <td>Thank now focus realize economy focus fly. Item step fine war. Western service history anything.</td>\n",
       "    </tr>\n",
       "    <tr>\n",
       "      <th>9</th>\n",
       "      <td>10</td>\n",
       "      <td>5</td>\n",
       "      <td>staylor</td>\n",
       "      <td>Game push lot reduce where remember. Including song travel hair foot. Director always myself past story chance reason.</td>\n",
       "    </tr>\n",
       "  </tbody>\n",
       "</table>\n",
       "</div>"
      ],
      "text/plain": [
       "   review_id  book_id       username  \\\n",
       "0          1        1   brandtandrea   \n",
       "1          2        1     ryanfranco   \n",
       "2          3        2       lorichen   \n",
       "3          4        3  johnsonamanda   \n",
       "4          5        3    scotttamara   \n",
       "5          6        3    lesliegibbs   \n",
       "6          7        4   valenciaanne   \n",
       "7          8        4    abbottjames   \n",
       "8          9        5        npowers   \n",
       "9         10        5        staylor   \n",
       "\n",
       "                                                                                                                               text  \n",
       "0                                        Mention society tell send professor analysis. Over provide race technology continue these.  \n",
       "1                                                 Foot glass pretty audience hit themselves. Among admit investment argue security.  \n",
       "2  Listen treat keep worry. Miss husband tax but person sport treatment industry. Kitchen decision deep the. Social party body the.  \n",
       "3          Finally month interesting blue could nature cultural bit. Prepare beat finish grow that smile teach. Dream me play near.  \n",
       "4                  Nation purpose heavy give wait song will. List dinner another whole positive radio fast. Music staff many green.  \n",
       "5                                                                                          Analysis no several cause international.  \n",
       "6                              One there cost another. Say type save. With personal where occur direction foot. Half sit role want.  \n",
       "7                                                                 Within enough mother. There at system full recent play recognize.  \n",
       "8                                  Thank now focus realize economy focus fly. Item step fine war. Western service history anything.  \n",
       "9            Game push lot reduce where remember. Including song travel hair foot. Director always myself past story chance reason.  "
      ]
     },
     "metadata": {},
     "output_type": "display_data"
    },
    {
     "name": "stdout",
     "output_type": "stream",
     "text": [
      "The books table:\n"
     ]
    },
    {
     "data": {
      "text/html": [
       "<div>\n",
       "<style scoped>\n",
       "    .dataframe tbody tr th:only-of-type {\n",
       "        vertical-align: middle;\n",
       "    }\n",
       "\n",
       "    .dataframe tbody tr th {\n",
       "        vertical-align: top;\n",
       "    }\n",
       "\n",
       "    .dataframe thead th {\n",
       "        text-align: right;\n",
       "    }\n",
       "</style>\n",
       "<table border=\"1\" class=\"dataframe\">\n",
       "  <thead>\n",
       "    <tr style=\"text-align: right;\">\n",
       "      <th></th>\n",
       "      <th>book_id</th>\n",
       "      <th>author_id</th>\n",
       "      <th>title</th>\n",
       "      <th>num_pages</th>\n",
       "      <th>publication_date</th>\n",
       "      <th>publisher_id</th>\n",
       "    </tr>\n",
       "  </thead>\n",
       "  <tbody>\n",
       "    <tr>\n",
       "      <th>0</th>\n",
       "      <td>1</td>\n",
       "      <td>546</td>\n",
       "      <td>'Salem's Lot</td>\n",
       "      <td>594</td>\n",
       "      <td>2005-11-01</td>\n",
       "      <td>93</td>\n",
       "    </tr>\n",
       "    <tr>\n",
       "      <th>1</th>\n",
       "      <td>2</td>\n",
       "      <td>465</td>\n",
       "      <td>1 000 Places to See Before You Die</td>\n",
       "      <td>992</td>\n",
       "      <td>2003-05-22</td>\n",
       "      <td>336</td>\n",
       "    </tr>\n",
       "    <tr>\n",
       "      <th>2</th>\n",
       "      <td>3</td>\n",
       "      <td>407</td>\n",
       "      <td>13 Little Blue Envelopes (Little Blue Envelope  #1)</td>\n",
       "      <td>322</td>\n",
       "      <td>2010-12-21</td>\n",
       "      <td>135</td>\n",
       "    </tr>\n",
       "    <tr>\n",
       "      <th>3</th>\n",
       "      <td>4</td>\n",
       "      <td>82</td>\n",
       "      <td>1491: New Revelations of the Americas Before Columbus</td>\n",
       "      <td>541</td>\n",
       "      <td>2006-10-10</td>\n",
       "      <td>309</td>\n",
       "    </tr>\n",
       "    <tr>\n",
       "      <th>4</th>\n",
       "      <td>5</td>\n",
       "      <td>125</td>\n",
       "      <td>1776</td>\n",
       "      <td>386</td>\n",
       "      <td>2006-07-04</td>\n",
       "      <td>268</td>\n",
       "    </tr>\n",
       "    <tr>\n",
       "      <th>5</th>\n",
       "      <td>6</td>\n",
       "      <td>257</td>\n",
       "      <td>1st to Die (Women's Murder Club  #1)</td>\n",
       "      <td>424</td>\n",
       "      <td>2005-05-20</td>\n",
       "      <td>116</td>\n",
       "    </tr>\n",
       "    <tr>\n",
       "      <th>6</th>\n",
       "      <td>7</td>\n",
       "      <td>258</td>\n",
       "      <td>2nd Chance (Women's Murder Club  #2)</td>\n",
       "      <td>400</td>\n",
       "      <td>2005-05-20</td>\n",
       "      <td>116</td>\n",
       "    </tr>\n",
       "    <tr>\n",
       "      <th>7</th>\n",
       "      <td>8</td>\n",
       "      <td>260</td>\n",
       "      <td>4th of July (Women's Murder Club  #4)</td>\n",
       "      <td>448</td>\n",
       "      <td>2006-06-01</td>\n",
       "      <td>318</td>\n",
       "    </tr>\n",
       "    <tr>\n",
       "      <th>8</th>\n",
       "      <td>9</td>\n",
       "      <td>563</td>\n",
       "      <td>A Beautiful Mind</td>\n",
       "      <td>461</td>\n",
       "      <td>2002-02-04</td>\n",
       "      <td>104</td>\n",
       "    </tr>\n",
       "    <tr>\n",
       "      <th>9</th>\n",
       "      <td>10</td>\n",
       "      <td>445</td>\n",
       "      <td>A Bend in the Road</td>\n",
       "      <td>341</td>\n",
       "      <td>2005-04-01</td>\n",
       "      <td>116</td>\n",
       "    </tr>\n",
       "  </tbody>\n",
       "</table>\n",
       "</div>"
      ],
      "text/plain": [
       "   book_id  author_id                                                  title  \\\n",
       "0        1        546                                           'Salem's Lot   \n",
       "1        2        465                     1 000 Places to See Before You Die   \n",
       "2        3        407    13 Little Blue Envelopes (Little Blue Envelope  #1)   \n",
       "3        4         82  1491: New Revelations of the Americas Before Columbus   \n",
       "4        5        125                                                   1776   \n",
       "5        6        257                   1st to Die (Women's Murder Club  #1)   \n",
       "6        7        258                   2nd Chance (Women's Murder Club  #2)   \n",
       "7        8        260                  4th of July (Women's Murder Club  #4)   \n",
       "8        9        563                                       A Beautiful Mind   \n",
       "9       10        445                                     A Bend in the Road   \n",
       "\n",
       "   num_pages publication_date  publisher_id  \n",
       "0        594       2005-11-01            93  \n",
       "1        992       2003-05-22           336  \n",
       "2        322       2010-12-21           135  \n",
       "3        541       2006-10-10           309  \n",
       "4        386       2006-07-04           268  \n",
       "5        424       2005-05-20           116  \n",
       "6        400       2005-05-20           116  \n",
       "7        448       2006-06-01           318  \n",
       "8        461       2002-02-04           104  \n",
       "9        341       2005-04-01           116  "
      ]
     },
     "metadata": {},
     "output_type": "display_data"
    },
    {
     "name": "stdout",
     "output_type": "stream",
     "text": [
      "The publishers table:\n"
     ]
    },
    {
     "data": {
      "text/html": [
       "<div>\n",
       "<style scoped>\n",
       "    .dataframe tbody tr th:only-of-type {\n",
       "        vertical-align: middle;\n",
       "    }\n",
       "\n",
       "    .dataframe tbody tr th {\n",
       "        vertical-align: top;\n",
       "    }\n",
       "\n",
       "    .dataframe thead th {\n",
       "        text-align: right;\n",
       "    }\n",
       "</style>\n",
       "<table border=\"1\" class=\"dataframe\">\n",
       "  <thead>\n",
       "    <tr style=\"text-align: right;\">\n",
       "      <th></th>\n",
       "      <th>publisher_id</th>\n",
       "      <th>publisher</th>\n",
       "    </tr>\n",
       "  </thead>\n",
       "  <tbody>\n",
       "    <tr>\n",
       "      <th>0</th>\n",
       "      <td>1</td>\n",
       "      <td>Ace</td>\n",
       "    </tr>\n",
       "    <tr>\n",
       "      <th>1</th>\n",
       "      <td>2</td>\n",
       "      <td>Ace Book</td>\n",
       "    </tr>\n",
       "    <tr>\n",
       "      <th>2</th>\n",
       "      <td>3</td>\n",
       "      <td>Ace Books</td>\n",
       "    </tr>\n",
       "    <tr>\n",
       "      <th>3</th>\n",
       "      <td>4</td>\n",
       "      <td>Ace Hardcover</td>\n",
       "    </tr>\n",
       "    <tr>\n",
       "      <th>4</th>\n",
       "      <td>5</td>\n",
       "      <td>Addison Wesley Publishing Company</td>\n",
       "    </tr>\n",
       "    <tr>\n",
       "      <th>5</th>\n",
       "      <td>6</td>\n",
       "      <td>Aladdin</td>\n",
       "    </tr>\n",
       "    <tr>\n",
       "      <th>6</th>\n",
       "      <td>7</td>\n",
       "      <td>Aladdin Paperbacks</td>\n",
       "    </tr>\n",
       "    <tr>\n",
       "      <th>7</th>\n",
       "      <td>8</td>\n",
       "      <td>Albin Michel</td>\n",
       "    </tr>\n",
       "    <tr>\n",
       "      <th>8</th>\n",
       "      <td>9</td>\n",
       "      <td>Alfred A. Knopf</td>\n",
       "    </tr>\n",
       "    <tr>\n",
       "      <th>9</th>\n",
       "      <td>10</td>\n",
       "      <td>Alfred A. Knopf Books for Young Readers</td>\n",
       "    </tr>\n",
       "  </tbody>\n",
       "</table>\n",
       "</div>"
      ],
      "text/plain": [
       "   publisher_id                                publisher\n",
       "0             1                                      Ace\n",
       "1             2                                 Ace Book\n",
       "2             3                                Ace Books\n",
       "3             4                            Ace Hardcover\n",
       "4             5        Addison Wesley Publishing Company\n",
       "5             6                                  Aladdin\n",
       "6             7                       Aladdin Paperbacks\n",
       "7             8                             Albin Michel\n",
       "8             9                          Alfred A. Knopf\n",
       "9            10  Alfred A. Knopf Books for Young Readers"
      ]
     },
     "metadata": {},
     "output_type": "display_data"
    },
    {
     "name": "stdout",
     "output_type": "stream",
     "text": [
      "The ratings table:\n"
     ]
    },
    {
     "data": {
      "text/html": [
       "<div>\n",
       "<style scoped>\n",
       "    .dataframe tbody tr th:only-of-type {\n",
       "        vertical-align: middle;\n",
       "    }\n",
       "\n",
       "    .dataframe tbody tr th {\n",
       "        vertical-align: top;\n",
       "    }\n",
       "\n",
       "    .dataframe thead th {\n",
       "        text-align: right;\n",
       "    }\n",
       "</style>\n",
       "<table border=\"1\" class=\"dataframe\">\n",
       "  <thead>\n",
       "    <tr style=\"text-align: right;\">\n",
       "      <th></th>\n",
       "      <th>rating_id</th>\n",
       "      <th>book_id</th>\n",
       "      <th>username</th>\n",
       "      <th>rating</th>\n",
       "    </tr>\n",
       "  </thead>\n",
       "  <tbody>\n",
       "    <tr>\n",
       "      <th>0</th>\n",
       "      <td>1</td>\n",
       "      <td>1</td>\n",
       "      <td>ryanfranco</td>\n",
       "      <td>4</td>\n",
       "    </tr>\n",
       "    <tr>\n",
       "      <th>1</th>\n",
       "      <td>2</td>\n",
       "      <td>1</td>\n",
       "      <td>grantpatricia</td>\n",
       "      <td>2</td>\n",
       "    </tr>\n",
       "    <tr>\n",
       "      <th>2</th>\n",
       "      <td>3</td>\n",
       "      <td>1</td>\n",
       "      <td>brandtandrea</td>\n",
       "      <td>5</td>\n",
       "    </tr>\n",
       "    <tr>\n",
       "      <th>3</th>\n",
       "      <td>4</td>\n",
       "      <td>2</td>\n",
       "      <td>lorichen</td>\n",
       "      <td>3</td>\n",
       "    </tr>\n",
       "    <tr>\n",
       "      <th>4</th>\n",
       "      <td>5</td>\n",
       "      <td>2</td>\n",
       "      <td>mariokeller</td>\n",
       "      <td>2</td>\n",
       "    </tr>\n",
       "    <tr>\n",
       "      <th>5</th>\n",
       "      <td>6</td>\n",
       "      <td>3</td>\n",
       "      <td>johnsonamanda</td>\n",
       "      <td>4</td>\n",
       "    </tr>\n",
       "    <tr>\n",
       "      <th>6</th>\n",
       "      <td>7</td>\n",
       "      <td>3</td>\n",
       "      <td>scotttamara</td>\n",
       "      <td>5</td>\n",
       "    </tr>\n",
       "    <tr>\n",
       "      <th>7</th>\n",
       "      <td>8</td>\n",
       "      <td>3</td>\n",
       "      <td>lesliegibbs</td>\n",
       "      <td>5</td>\n",
       "    </tr>\n",
       "    <tr>\n",
       "      <th>8</th>\n",
       "      <td>9</td>\n",
       "      <td>4</td>\n",
       "      <td>abbottjames</td>\n",
       "      <td>5</td>\n",
       "    </tr>\n",
       "    <tr>\n",
       "      <th>9</th>\n",
       "      <td>10</td>\n",
       "      <td>4</td>\n",
       "      <td>valenciaanne</td>\n",
       "      <td>4</td>\n",
       "    </tr>\n",
       "  </tbody>\n",
       "</table>\n",
       "</div>"
      ],
      "text/plain": [
       "   rating_id  book_id       username  rating\n",
       "0          1        1     ryanfranco       4\n",
       "1          2        1  grantpatricia       2\n",
       "2          3        1   brandtandrea       5\n",
       "3          4        2       lorichen       3\n",
       "4          5        2    mariokeller       2\n",
       "5          6        3  johnsonamanda       4\n",
       "6          7        3    scotttamara       5\n",
       "7          8        3    lesliegibbs       5\n",
       "8          9        4    abbottjames       5\n",
       "9         10        4   valenciaanne       4"
      ]
     },
     "metadata": {},
     "output_type": "display_data"
    },
    {
     "name": "stdout",
     "output_type": "stream",
     "text": [
      "The authors table:\n"
     ]
    },
    {
     "data": {
      "text/html": [
       "<div>\n",
       "<style scoped>\n",
       "    .dataframe tbody tr th:only-of-type {\n",
       "        vertical-align: middle;\n",
       "    }\n",
       "\n",
       "    .dataframe tbody tr th {\n",
       "        vertical-align: top;\n",
       "    }\n",
       "\n",
       "    .dataframe thead th {\n",
       "        text-align: right;\n",
       "    }\n",
       "</style>\n",
       "<table border=\"1\" class=\"dataframe\">\n",
       "  <thead>\n",
       "    <tr style=\"text-align: right;\">\n",
       "      <th></th>\n",
       "      <th>author_id</th>\n",
       "      <th>author</th>\n",
       "    </tr>\n",
       "  </thead>\n",
       "  <tbody>\n",
       "    <tr>\n",
       "      <th>0</th>\n",
       "      <td>1</td>\n",
       "      <td>A.S. Byatt</td>\n",
       "    </tr>\n",
       "    <tr>\n",
       "      <th>1</th>\n",
       "      <td>2</td>\n",
       "      <td>Aesop/Laura Harris/Laura Gibbs</td>\n",
       "    </tr>\n",
       "    <tr>\n",
       "      <th>2</th>\n",
       "      <td>3</td>\n",
       "      <td>Agatha Christie</td>\n",
       "    </tr>\n",
       "    <tr>\n",
       "      <th>3</th>\n",
       "      <td>4</td>\n",
       "      <td>Alan Brennert</td>\n",
       "    </tr>\n",
       "    <tr>\n",
       "      <th>4</th>\n",
       "      <td>5</td>\n",
       "      <td>Alan Moore/David   Lloyd</td>\n",
       "    </tr>\n",
       "    <tr>\n",
       "      <th>5</th>\n",
       "      <td>6</td>\n",
       "      <td>Alan Paton</td>\n",
       "    </tr>\n",
       "    <tr>\n",
       "      <th>6</th>\n",
       "      <td>7</td>\n",
       "      <td>Albert Camus/Justin O'Brien</td>\n",
       "    </tr>\n",
       "    <tr>\n",
       "      <th>7</th>\n",
       "      <td>8</td>\n",
       "      <td>Aldous Huxley</td>\n",
       "    </tr>\n",
       "    <tr>\n",
       "      <th>8</th>\n",
       "      <td>9</td>\n",
       "      <td>Aldous Huxley/Christopher Hitchens</td>\n",
       "    </tr>\n",
       "    <tr>\n",
       "      <th>9</th>\n",
       "      <td>10</td>\n",
       "      <td>Aleksandr Solzhenitsyn/H.T. Willetts</td>\n",
       "    </tr>\n",
       "  </tbody>\n",
       "</table>\n",
       "</div>"
      ],
      "text/plain": [
       "   author_id                                author\n",
       "0          1                            A.S. Byatt\n",
       "1          2        Aesop/Laura Harris/Laura Gibbs\n",
       "2          3                       Agatha Christie\n",
       "3          4                         Alan Brennert\n",
       "4          5              Alan Moore/David   Lloyd\n",
       "5          6                            Alan Paton\n",
       "6          7           Albert Camus/Justin O'Brien\n",
       "7          8                         Aldous Huxley\n",
       "8          9    Aldous Huxley/Christopher Hitchens\n",
       "9         10  Aleksandr Solzhenitsyn/H.T. Willetts"
      ]
     },
     "metadata": {},
     "output_type": "display_data"
    }
   ],
   "source": [
    "# creating a loop that prints all the required tables in the database \n",
    "\n",
    "tables = ['reviews', 'books', 'publishers', 'ratings', 'authors']\n",
    "for i in tables:\n",
    "    print(\"The {} table:\".format(i))\n",
    "    query = '''SELECT *\n",
    "         FROM {}\n",
    "         LIMIT 10'''.format(i)\n",
    "\n",
    "    display(pd.read_sql_query(query, con = engine))"
   ]
  },
  {
   "cell_type": "markdown",
   "id": "f5ff7088",
   "metadata": {},
   "source": [
    "## Analysis of the Data"
   ]
  },
  {
   "cell_type": "markdown",
   "id": "6002813f",
   "metadata": {},
   "source": [
    "### Number of Books Released After January 1st, 2020"
   ]
  },
  {
   "cell_type": "code",
   "execution_count": 5,
   "id": "15b5e824",
   "metadata": {},
   "outputs": [
    {
     "data": {
      "text/html": [
       "<div>\n",
       "<style scoped>\n",
       "    .dataframe tbody tr th:only-of-type {\n",
       "        vertical-align: middle;\n",
       "    }\n",
       "\n",
       "    .dataframe tbody tr th {\n",
       "        vertical-align: top;\n",
       "    }\n",
       "\n",
       "    .dataframe thead th {\n",
       "        text-align: right;\n",
       "    }\n",
       "</style>\n",
       "<table border=\"1\" class=\"dataframe\">\n",
       "  <thead>\n",
       "    <tr style=\"text-align: right;\">\n",
       "      <th></th>\n",
       "      <th>count</th>\n",
       "    </tr>\n",
       "  </thead>\n",
       "  <tbody>\n",
       "    <tr>\n",
       "      <th>0</th>\n",
       "      <td>819</td>\n",
       "    </tr>\n",
       "  </tbody>\n",
       "</table>\n",
       "</div>"
      ],
      "text/plain": [
       "   count\n",
       "0    819"
      ]
     },
     "metadata": {},
     "output_type": "display_data"
    }
   ],
   "source": [
    "query = '''SELECT COUNT(title)\n",
    "           FROM books\n",
    "           WHERE publication_date > CAST('2000-01-01' as Date);'''\n",
    "\n",
    "display(pd.read_sql_query(query, con = engine))\n",
    "      "
   ]
  },
  {
   "cell_type": "markdown",
   "id": "e773a838",
   "metadata": {},
   "source": [
    "### Number of Reviews and Average Ratings per Book"
   ]
  },
  {
   "cell_type": "code",
   "execution_count": 6,
   "id": "4f83b92d",
   "metadata": {},
   "outputs": [
    {
     "data": {
      "text/html": [
       "<div>\n",
       "<style scoped>\n",
       "    .dataframe tbody tr th:only-of-type {\n",
       "        vertical-align: middle;\n",
       "    }\n",
       "\n",
       "    .dataframe tbody tr th {\n",
       "        vertical-align: top;\n",
       "    }\n",
       "\n",
       "    .dataframe thead th {\n",
       "        text-align: right;\n",
       "    }\n",
       "</style>\n",
       "<table border=\"1\" class=\"dataframe\">\n",
       "  <thead>\n",
       "    <tr style=\"text-align: right;\">\n",
       "      <th></th>\n",
       "      <th>book_id</th>\n",
       "      <th>title</th>\n",
       "      <th>n_reviews</th>\n",
       "      <th>avg_rating</th>\n",
       "    </tr>\n",
       "  </thead>\n",
       "  <tbody>\n",
       "    <tr>\n",
       "      <th>0</th>\n",
       "      <td>948</td>\n",
       "      <td>Twilight (Twilight  #1)</td>\n",
       "      <td>7</td>\n",
       "      <td>3.662500</td>\n",
       "    </tr>\n",
       "    <tr>\n",
       "      <th>1</th>\n",
       "      <td>963</td>\n",
       "      <td>Water for Elephants</td>\n",
       "      <td>6</td>\n",
       "      <td>3.977273</td>\n",
       "    </tr>\n",
       "    <tr>\n",
       "      <th>2</th>\n",
       "      <td>734</td>\n",
       "      <td>The Glass Castle</td>\n",
       "      <td>6</td>\n",
       "      <td>4.206897</td>\n",
       "    </tr>\n",
       "    <tr>\n",
       "      <th>3</th>\n",
       "      <td>302</td>\n",
       "      <td>Harry Potter and the Prisoner of Azkaban (Harry Potter  #3)</td>\n",
       "      <td>6</td>\n",
       "      <td>4.414634</td>\n",
       "    </tr>\n",
       "    <tr>\n",
       "      <th>4</th>\n",
       "      <td>695</td>\n",
       "      <td>The Curious Incident of the Dog in the Night-Time</td>\n",
       "      <td>6</td>\n",
       "      <td>4.081081</td>\n",
       "    </tr>\n",
       "    <tr>\n",
       "      <th>...</th>\n",
       "      <td>...</td>\n",
       "      <td>...</td>\n",
       "      <td>...</td>\n",
       "      <td>...</td>\n",
       "    </tr>\n",
       "    <tr>\n",
       "      <th>995</th>\n",
       "      <td>83</td>\n",
       "      <td>Anne Rice's The Vampire Lestat: A Graphic Novel</td>\n",
       "      <td>0</td>\n",
       "      <td>3.666667</td>\n",
       "    </tr>\n",
       "    <tr>\n",
       "      <th>996</th>\n",
       "      <td>808</td>\n",
       "      <td>The Natural Way to Draw</td>\n",
       "      <td>0</td>\n",
       "      <td>3.000000</td>\n",
       "    </tr>\n",
       "    <tr>\n",
       "      <th>997</th>\n",
       "      <td>672</td>\n",
       "      <td>The Cat in the Hat and Other Dr. Seuss Favorites</td>\n",
       "      <td>0</td>\n",
       "      <td>5.000000</td>\n",
       "    </tr>\n",
       "    <tr>\n",
       "      <th>998</th>\n",
       "      <td>221</td>\n",
       "      <td>Essential Tales and Poems</td>\n",
       "      <td>0</td>\n",
       "      <td>4.000000</td>\n",
       "    </tr>\n",
       "    <tr>\n",
       "      <th>999</th>\n",
       "      <td>191</td>\n",
       "      <td>Disney's Beauty and the Beast (A Little Golden Book)</td>\n",
       "      <td>0</td>\n",
       "      <td>4.000000</td>\n",
       "    </tr>\n",
       "  </tbody>\n",
       "</table>\n",
       "<p>1000 rows × 4 columns</p>\n",
       "</div>"
      ],
      "text/plain": [
       "     book_id                                                        title  \\\n",
       "0        948                                      Twilight (Twilight  #1)   \n",
       "1        963                                          Water for Elephants   \n",
       "2        734                                             The Glass Castle   \n",
       "3        302  Harry Potter and the Prisoner of Azkaban (Harry Potter  #3)   \n",
       "4        695            The Curious Incident of the Dog in the Night-Time   \n",
       "..       ...                                                          ...   \n",
       "995       83              Anne Rice's The Vampire Lestat: A Graphic Novel   \n",
       "996      808                                      The Natural Way to Draw   \n",
       "997      672             The Cat in the Hat and Other Dr. Seuss Favorites   \n",
       "998      221                                    Essential Tales and Poems   \n",
       "999      191         Disney's Beauty and the Beast (A Little Golden Book)   \n",
       "\n",
       "     n_reviews  avg_rating  \n",
       "0            7    3.662500  \n",
       "1            6    3.977273  \n",
       "2            6    4.206897  \n",
       "3            6    4.414634  \n",
       "4            6    4.081081  \n",
       "..         ...         ...  \n",
       "995          0    3.666667  \n",
       "996          0    3.000000  \n",
       "997          0    5.000000  \n",
       "998          0    4.000000  \n",
       "999          0    4.000000  \n",
       "\n",
       "[1000 rows x 4 columns]"
      ]
     },
     "metadata": {},
     "output_type": "display_data"
    }
   ],
   "source": [
    "query = '''SELECT books.book_id,\n",
    "           books.title, \n",
    "           COUNT(DISTINCT reviews.review_id) AS n_reviews,\n",
    "           AVG(ratings.rating) AS avg_rating\n",
    "           FROM books\n",
    "           LEFT JOIN ratings ON books.book_id = ratings.book_id\n",
    "           LEFT JOIN reviews ON ratings.book_id = reviews.book_id\n",
    "           GROUP BY books.book_id\n",
    "           ORDER BY n_reviews DESC;'''\n",
    "\n",
    "display(pd.read_sql_query(query, con = engine))\n",
    "\n"
   ]
  },
  {
   "cell_type": "markdown",
   "id": "507a3da5",
   "metadata": {},
   "source": [
    "### Publisher with the Greatest Number of Books Released (with More than 50 Pages)"
   ]
  },
  {
   "cell_type": "code",
   "execution_count": 9,
   "id": "ccd80df0",
   "metadata": {},
   "outputs": [
    {
     "data": {
      "text/html": [
       "<div>\n",
       "<style scoped>\n",
       "    .dataframe tbody tr th:only-of-type {\n",
       "        vertical-align: middle;\n",
       "    }\n",
       "\n",
       "    .dataframe tbody tr th {\n",
       "        vertical-align: top;\n",
       "    }\n",
       "\n",
       "    .dataframe thead th {\n",
       "        text-align: right;\n",
       "    }\n",
       "</style>\n",
       "<table border=\"1\" class=\"dataframe\">\n",
       "  <thead>\n",
       "    <tr style=\"text-align: right;\">\n",
       "      <th></th>\n",
       "      <th>publisher_id</th>\n",
       "      <th>publisher</th>\n",
       "      <th>n_books</th>\n",
       "    </tr>\n",
       "  </thead>\n",
       "  <tbody>\n",
       "    <tr>\n",
       "      <th>0</th>\n",
       "      <td>212</td>\n",
       "      <td>Penguin Books</td>\n",
       "      <td>42</td>\n",
       "    </tr>\n",
       "  </tbody>\n",
       "</table>\n",
       "</div>"
      ],
      "text/plain": [
       "   publisher_id      publisher  n_books\n",
       "0           212  Penguin Books       42"
      ]
     },
     "metadata": {},
     "output_type": "display_data"
    }
   ],
   "source": [
    "query = '''SELECT publishers.publisher_id,\n",
    "           publishers.publisher,\n",
    "           COUNT(books.publisher_id) AS n_books\n",
    "           FROM publishers\n",
    "           LEFT JOIN books ON publishers.publisher_id = books.publisher_id\n",
    "           WHERE num_pages > 50\n",
    "           GROUP BY publishers.publisher_id\n",
    "           ORDER BY n_books DESC\n",
    "           LIMIT 1;'''\n",
    "\n",
    "\n",
    "display(pd.read_sql_query(query, con = engine))"
   ]
  },
  {
   "cell_type": "markdown",
   "id": "d89d7089",
   "metadata": {},
   "source": [
    "### Author with the Highest Average Book Ratings (At Least 50 Ratings)\n"
   ]
  },
  {
   "cell_type": "code",
   "execution_count": 10,
   "id": "f010e107",
   "metadata": {},
   "outputs": [
    {
     "data": {
      "text/html": [
       "<div>\n",
       "<style scoped>\n",
       "    .dataframe tbody tr th:only-of-type {\n",
       "        vertical-align: middle;\n",
       "    }\n",
       "\n",
       "    .dataframe tbody tr th {\n",
       "        vertical-align: top;\n",
       "    }\n",
       "\n",
       "    .dataframe thead th {\n",
       "        text-align: right;\n",
       "    }\n",
       "</style>\n",
       "<table border=\"1\" class=\"dataframe\">\n",
       "  <thead>\n",
       "    <tr style=\"text-align: right;\">\n",
       "      <th></th>\n",
       "      <th>author</th>\n",
       "      <th>avg_rating</th>\n",
       "      <th>n_ratings</th>\n",
       "    </tr>\n",
       "  </thead>\n",
       "  <tbody>\n",
       "    <tr>\n",
       "      <th>0</th>\n",
       "      <td>J.K. Rowling/Mary GrandPré</td>\n",
       "      <td>4.414634</td>\n",
       "      <td>82</td>\n",
       "    </tr>\n",
       "  </tbody>\n",
       "</table>\n",
       "</div>"
      ],
      "text/plain": [
       "                       author  avg_rating  n_ratings\n",
       "0  J.K. Rowling/Mary GrandPré    4.414634         82"
      ]
     },
     "metadata": {},
     "output_type": "display_data"
    }
   ],
   "source": [
    "query = '''SELECT top.author,\n",
    "           top.avg_rating,\n",
    "           top.n_ratings\n",
    "           FROM (\n",
    "           SELECT books.title,\n",
    "           authors.author,\n",
    "           AVG(ratings.rating) AS avg_rating,\n",
    "           COUNT(ratings.rating) AS n_ratings\n",
    "           FROM authors\n",
    "           LEFT JOIN books ON books.author_id = authors.author_id\n",
    "           LEFT JOIN ratings ON ratings.book_id = books.book_id\n",
    "           GROUP BY books.title, authors.author\n",
    "           HAVING COUNT(ratings.rating) >= 50\n",
    "           ORDER BY avg_rating DESC\n",
    "           LIMIT 1) AS top\n",
    "           '''\n",
    "\n",
    "display(pd.read_sql_query(query, con = engine))"
   ]
  },
  {
   "cell_type": "markdown",
   "id": "0d5598d8",
   "metadata": {},
   "source": [
    "### Average Number of Text Reviews (Users with More Than 50 Books Rated)"
   ]
  },
  {
   "cell_type": "code",
   "execution_count": 11,
   "id": "b2b87976",
   "metadata": {
    "scrolled": true
   },
   "outputs": [
    {
     "data": {
      "text/html": [
       "<div>\n",
       "<style scoped>\n",
       "    .dataframe tbody tr th:only-of-type {\n",
       "        vertical-align: middle;\n",
       "    }\n",
       "\n",
       "    .dataframe tbody tr th {\n",
       "        vertical-align: top;\n",
       "    }\n",
       "\n",
       "    .dataframe thead th {\n",
       "        text-align: right;\n",
       "    }\n",
       "</style>\n",
       "<table border=\"1\" class=\"dataframe\">\n",
       "  <thead>\n",
       "    <tr style=\"text-align: right;\">\n",
       "      <th></th>\n",
       "      <th>avg_reviews</th>\n",
       "    </tr>\n",
       "  </thead>\n",
       "  <tbody>\n",
       "    <tr>\n",
       "      <th>0</th>\n",
       "      <td>24.333333</td>\n",
       "    </tr>\n",
       "  </tbody>\n",
       "</table>\n",
       "</div>"
      ],
      "text/plain": [
       "   avg_reviews\n",
       "0    24.333333"
      ]
     },
     "metadata": {},
     "output_type": "display_data"
    }
   ],
   "source": [
    "query = '''WITH\n",
    "           i AS (SELECT reviews.username,\n",
    "           COUNT(reviews.review_id) AS count\n",
    "           FROM reviews\n",
    "           WHERE username in (SELECT username\n",
    "           FROM ratings\n",
    "           GROUP BY username\n",
    "           HAVING COUNT(ratings.username) > 50)\n",
    "           GROUP BY reviews.username)\n",
    "           \n",
    "           SELECT AVG(i.count) AS avg_reviews\n",
    "           FROM i\n",
    "           '''\n",
    "\n",
    "\n",
    "display(pd.read_sql_query(query, con = engine))"
   ]
  },
  {
   "cell_type": "markdown",
   "id": "002b850e",
   "metadata": {},
   "source": [
    "# Conclusions"
   ]
  },
  {
   "cell_type": "markdown",
   "id": "f7c64d4c",
   "metadata": {},
   "source": [
    "Conclusions on each of the queries above: \n",
    "- Out of 1,000 books, more than 80% were published after January 1st, 2020. This means that newer books sell better than older ones (even better than the classics).\n",
    "- Top five include both books that are part of series and some more classic books. However, all were most likely released more than 10 years ago, at the very least. It seems that people were nostalgic during the pandemic - rather than chasing trends.\n",
    "- Some publishing houses are dominating the publishing world - Penguin has the most books published (42), then Vintage (which is also part of Penguin Books) and Penguin Classics at 4th. \n",
    "- J.K. Rowling has the highest average rating for a book with more than 50 reviews. \n",
    "- Readers who rated more than 50 books have an average of 24.33 reviews. This means that not everyone who rates a book, leaves a text review of the book or a book."
   ]
  }
 ],
 "metadata": {
  "ExecuteTimeLog": [
   {
    "duration": 549,
    "start_time": "2022-06-17T09:01:15.847Z"
   },
   {
    "duration": 19844,
    "start_time": "2022-06-17T09:01:16.398Z"
   },
   {
    "duration": 24,
    "start_time": "2022-06-17T09:01:36.245Z"
   },
   {
    "duration": 404,
    "start_time": "2022-06-17T09:01:36.271Z"
   },
   {
    "duration": 37,
    "start_time": "2022-06-17T09:01:36.677Z"
   },
   {
    "duration": 80,
    "start_time": "2022-06-17T09:01:36.716Z"
   },
   {
    "duration": 46,
    "start_time": "2022-06-17T09:01:36.798Z"
   },
   {
    "duration": 47,
    "start_time": "2022-06-17T09:01:36.846Z"
   },
   {
    "duration": 48,
    "start_time": "2022-06-17T09:01:36.895Z"
   },
   {
    "duration": 660,
    "start_time": "2022-06-17T09:01:48.486Z"
   },
   {
    "duration": 3,
    "start_time": "2022-06-17T09:01:49.148Z"
   },
   {
    "duration": 36,
    "start_time": "2022-06-17T09:01:49.152Z"
   },
   {
    "duration": 405,
    "start_time": "2022-06-17T09:01:49.191Z"
   },
   {
    "duration": 54,
    "start_time": "2022-06-17T09:01:49.597Z"
   },
   {
    "duration": 79,
    "start_time": "2022-06-17T09:01:49.653Z"
   },
   {
    "duration": 44,
    "start_time": "2022-06-17T09:01:49.739Z"
   },
   {
    "duration": 51,
    "start_time": "2022-06-17T09:01:49.785Z"
   },
   {
    "duration": 45,
    "start_time": "2022-06-17T09:01:49.838Z"
   },
   {
    "duration": 166,
    "start_time": "2022-06-17T09:03:22.086Z"
   },
   {
    "duration": 667,
    "start_time": "2022-06-17T13:16:34.345Z"
   },
   {
    "duration": 3,
    "start_time": "2022-06-17T13:16:35.014Z"
   },
   {
    "duration": 30,
    "start_time": "2022-06-17T13:16:35.019Z"
   },
   {
    "duration": 114,
    "start_time": "2022-06-17T13:16:35.051Z"
   },
   {
    "duration": 10,
    "start_time": "2022-06-17T13:16:35.167Z"
   },
   {
    "duration": 135,
    "start_time": "2022-06-17T13:16:35.178Z"
   },
   {
    "duration": 0,
    "start_time": "2022-06-17T13:16:35.315Z"
   },
   {
    "duration": 0,
    "start_time": "2022-06-17T13:16:35.316Z"
   },
   {
    "duration": 0,
    "start_time": "2022-06-17T13:16:35.318Z"
   },
   {
    "duration": 0,
    "start_time": "2022-06-17T13:16:35.319Z"
   },
   {
    "duration": 45,
    "start_time": "2022-06-17T13:18:02.443Z"
   },
   {
    "duration": 26,
    "start_time": "2022-06-17T13:18:39.317Z"
   },
   {
    "duration": 587,
    "start_time": "2022-06-17T13:20:05.512Z"
   },
   {
    "duration": 2,
    "start_time": "2022-06-17T13:20:06.101Z"
   },
   {
    "duration": 38,
    "start_time": "2022-06-17T13:20:06.105Z"
   },
   {
    "duration": 105,
    "start_time": "2022-06-17T13:20:06.146Z"
   },
   {
    "duration": 16,
    "start_time": "2022-06-17T13:20:06.252Z"
   },
   {
    "duration": 44,
    "start_time": "2022-06-17T13:20:06.269Z"
   },
   {
    "duration": 163,
    "start_time": "2022-06-17T13:20:06.315Z"
   },
   {
    "duration": 12,
    "start_time": "2022-06-17T13:20:06.479Z"
   },
   {
    "duration": 33,
    "start_time": "2022-06-17T13:20:06.492Z"
   },
   {
    "duration": 26,
    "start_time": "2022-06-17T13:20:06.528Z"
   },
   {
    "duration": 30,
    "start_time": "2022-06-17T13:23:28.900Z"
   },
   {
    "duration": 18,
    "start_time": "2022-06-17T13:28:39.110Z"
   },
   {
    "duration": 122,
    "start_time": "2022-06-17T13:29:23.838Z"
   },
   {
    "duration": 22,
    "start_time": "2022-06-17T13:29:39.536Z"
   },
   {
    "duration": 30,
    "start_time": "2022-06-17T13:29:55.747Z"
   },
   {
    "duration": 51,
    "start_time": "2022-06-17T13:32:42.377Z"
   },
   {
    "duration": 18,
    "start_time": "2022-06-17T13:32:52.504Z"
   },
   {
    "duration": 19,
    "start_time": "2022-06-17T13:33:40.675Z"
   },
   {
    "duration": 19,
    "start_time": "2022-06-17T13:33:55.033Z"
   },
   {
    "duration": 18,
    "start_time": "2022-06-17T13:34:20.878Z"
   },
   {
    "duration": 46,
    "start_time": "2022-06-17T13:36:57.437Z"
   },
   {
    "duration": 65,
    "start_time": "2022-06-17T13:37:21.662Z"
   },
   {
    "duration": 52,
    "start_time": "2022-06-17T13:37:39.815Z"
   },
   {
    "duration": 67,
    "start_time": "2022-06-17T13:37:47.534Z"
   },
   {
    "duration": 18,
    "start_time": "2022-06-17T13:37:59.403Z"
   },
   {
    "duration": 563,
    "start_time": "2022-06-17T13:44:25.590Z"
   },
   {
    "duration": 3,
    "start_time": "2022-06-17T13:44:26.155Z"
   },
   {
    "duration": 33,
    "start_time": "2022-06-17T13:44:26.159Z"
   },
   {
    "duration": 137,
    "start_time": "2022-06-17T13:44:26.194Z"
   },
   {
    "duration": 12,
    "start_time": "2022-06-17T13:44:26.333Z"
   },
   {
    "duration": 43,
    "start_time": "2022-06-17T13:44:26.347Z"
   },
   {
    "duration": 24,
    "start_time": "2022-06-17T13:44:26.392Z"
   },
   {
    "duration": 31,
    "start_time": "2022-06-17T13:44:26.419Z"
   },
   {
    "duration": 14,
    "start_time": "2022-06-17T13:44:26.452Z"
   },
   {
    "duration": 31,
    "start_time": "2022-06-17T13:44:26.468Z"
   },
   {
    "duration": 18,
    "start_time": "2022-06-17T13:44:26.501Z"
   },
   {
    "duration": 558,
    "start_time": "2022-06-17T17:05:24.702Z"
   },
   {
    "duration": 3,
    "start_time": "2022-06-17T17:05:25.262Z"
   },
   {
    "duration": 24,
    "start_time": "2022-06-17T17:05:25.266Z"
   },
   {
    "duration": 360,
    "start_time": "2022-06-17T17:05:25.292Z"
   },
   {
    "duration": 39,
    "start_time": "2022-06-17T17:05:25.654Z"
   },
   {
    "duration": 78,
    "start_time": "2022-06-17T17:05:25.694Z"
   },
   {
    "duration": 85,
    "start_time": "2022-06-17T17:05:25.774Z"
   },
   {
    "duration": 147,
    "start_time": "2022-06-17T17:05:25.860Z"
   },
   {
    "duration": 40,
    "start_time": "2022-06-17T17:05:26.008Z"
   },
   {
    "duration": 45,
    "start_time": "2022-06-17T17:05:26.050Z"
   },
   {
    "duration": 41,
    "start_time": "2022-06-17T17:05:26.096Z"
   },
   {
    "duration": 48,
    "start_time": "2022-06-17T17:07:51.833Z"
   },
   {
    "duration": 45,
    "start_time": "2022-06-17T17:07:57.039Z"
   }
  ],
  "hide_input": false,
  "kernelspec": {
   "display_name": "Python 3 (ipykernel)",
   "language": "python",
   "name": "python3"
  },
  "language_info": {
   "codemirror_mode": {
    "name": "ipython",
    "version": 3
   },
   "file_extension": ".py",
   "mimetype": "text/x-python",
   "name": "python",
   "nbconvert_exporter": "python",
   "pygments_lexer": "ipython3",
   "version": "3.9.7"
  },
  "toc": {
   "base_numbering": 1,
   "nav_menu": {},
   "number_sections": true,
   "sideBar": true,
   "skip_h1_title": true,
   "title_cell": "Table of Contents",
   "title_sidebar": "Contents",
   "toc_cell": false,
   "toc_position": {
    "height": "calc(100% - 180px)",
    "left": "10px",
    "top": "150px",
    "width": "227px"
   },
   "toc_section_display": true,
   "toc_window_display": false
  },
  "varInspector": {
   "cols": {
    "lenName": 16,
    "lenType": 16,
    "lenVar": 40
   },
   "kernels_config": {
    "python": {
     "delete_cmd_postfix": "",
     "delete_cmd_prefix": "del ",
     "library": "var_list.py",
     "varRefreshCmd": "print(var_dic_list())"
    },
    "r": {
     "delete_cmd_postfix": ") ",
     "delete_cmd_prefix": "rm(",
     "library": "var_list.r",
     "varRefreshCmd": "cat(var_dic_list()) "
    }
   },
   "types_to_exclude": [
    "module",
    "function",
    "builtin_function_or_method",
    "instance",
    "_Feature"
   ],
   "window_display": false
  }
 },
 "nbformat": 4,
 "nbformat_minor": 5
}
